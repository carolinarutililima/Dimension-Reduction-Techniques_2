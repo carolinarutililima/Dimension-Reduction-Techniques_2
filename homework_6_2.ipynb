{
  "cells": [
    {
      "cell_type": "markdown",
      "metadata": {
        "id": "ublVIgnSWusq"
      },
      "source": [
        "4. Transpose the ORL face dataset to let 𝐗 be a 2576 × 400 data matrix. Apply PCA to 𝐗, using the PCA function you created in EX3 above."
      ]
    },
    {
      "cell_type": "code",
      "execution_count": null,
      "metadata": {
        "id": "5RTFPSSEK9VA"
      },
      "outputs": [],
      "source": [
        "from PIL import Image\n",
        "import numpy as np\n",
        "from numpy import array\n",
        "from tkinter import _flatten\n",
        "import math\n",
        "import matplotlib.pyplot as plt\n",
        "import os\n"
      ]
    },
    {
      "cell_type": "code",
      "execution_count": null,
      "metadata": {
        "colab": {
          "base_uri": "https://localhost:8080/"
        },
        "id": "VkhQIDV9Wm-d",
        "outputId": "ed16de92-463e-4518-d034-4f4b30579328"
      },
      "outputs": [
        {
          "output_type": "execute_result",
          "data": {
            "text/plain": [
              "(400, 1)"
            ]
          },
          "metadata": {},
          "execution_count": 4
        }
      ],
      "source": [
        "import numpy\n",
        "\n",
        "# 1 - 0, 2 - 1, 3 - 1, 4 - 1, 5 - 1, 6 - 1, 7 - 1, 8 - 0, 9 - 1, 10 - 0, 11 - 1, 12 - 0, 13 - 1, 14 - 1, 15 - 1\n",
        "# 16 - 1, 17 - 1, 18 - 1, 19 - 1, 20 - 1, 21 - 1, 22 - 1, 23 - 1, 24 - 1, 25 - 1, 26 - 1, 27 - 1, 28 - 1, 29 - 1, 30 - 1\n",
        "# 31 - 1, 32 - 0, 33 - 1, 34 - 1, 35 - 1, 36 - 1, 37 - 1, 38 - 1, 39 - 1, 40 - 1  \n",
        "gender = [0, 1, 1, 1, 1, 1, 1, 0, 1, 0,1, 0, 1,1,1,1,1,1,1,1,1,1,1,1,1,1,1,1,1,1,1,0,1,1,1,1,1,1,1,1]\n",
        "len(gender)\n",
        "\n",
        "final = []\n",
        "for i in gender:\n",
        "  if i == 0:\n",
        "    for j in range(0,10):\n",
        "      final.append(0)\n",
        "    #new_list = [0,0,0,0,0,0,0,0,0,0]\n",
        "  else:\n",
        "    for j in range(0,10):\n",
        "      final.append(1)\n",
        "\n",
        "\n",
        " \n",
        "gender = np.asarray(final)\n",
        "gender = np.expand_dims(gender, axis=1)\n",
        "gender.shape\n",
        "\n",
        "\n"
      ]
    },
    {
      "cell_type": "code",
      "execution_count": null,
      "metadata": {
        "id": "K6f3E4pwWnRG"
      },
      "outputs": [],
      "source": [
        "from PIL import Image\n",
        "\n",
        "\n",
        "def load_images_from_folder(folder):\n",
        "  i = 1\n",
        "  for filename in os.listdir(folder):\n",
        "    im = Image.open(os.path.join(folder,filename))\n",
        "    data = np.array(im)\n",
        "    flattened = data.flatten()\n",
        "    reshape_fla = np.expand_dims(flattened, axis=0)\n",
        "    if i == 1:\n",
        "      final = reshape_fla\n",
        "      i = 2\n",
        "    else:\n",
        "      final = np.vstack((final,reshape_fla))\n",
        "\n",
        "  return final\n",
        "\n",
        "\n",
        "pixels = load_images_from_folder('/content/drive/MyDrive/Colab Notebooks/homework_6/faces')\n",
        "\n",
        "pixels.shape\n",
        "\n",
        "X = pixels"
      ]
    },
    {
      "cell_type": "markdown",
      "metadata": {
        "id": "XUWzZlONW9Ai"
      },
      "source": [
        "a. (10%) How many principal components are needed to explain 50%, 60%, 70%, 80%, and 90% of the total\n",
        "variance?"
      ]
    },
    {
      "cell_type": "code",
      "execution_count": null,
      "metadata": {
        "id": "SP0JqujKXDDN"
      },
      "outputs": [],
      "source": [
        "import numpy as np\n",
        "import matplotlib.pyplot as plt\n",
        "import pandas as pd\n",
        "import seaborn as sns\n",
        "%matplotlib inline\n",
        "from sklearn.preprocessing import StandardScaler\n"
      ]
    },
    {
      "cell_type": "code",
      "execution_count": null,
      "metadata": {
        "id": "KXwraw4eXDMl"
      },
      "outputs": [],
      "source": [
        "\n",
        "def fa_function(X, num_feat):\n",
        "\n",
        "  x_std = StandardScaler().fit_transform(X)\n",
        "  features = x_std.T \n",
        "  covariance_matrix = np.cov(features)\n",
        "  eig_vals, eig_vecs = np.linalg.eig(covariance_matrix)\n",
        "  sel_eig_vals = eig_vals[:num_feat]\n",
        "  eig_vals_diag = np.zeros((eig_vals.shape[0], eig_vals.shape[0]), float) \n",
        "  np.fill_diagonal(eig_vals_diag, eig_vals) \n",
        "  eig_vals_diagsqrt = np.sqrt(eig_vals_diag)\n",
        "  All_T = eig_vals_diag @ eig_vecs\n",
        "  All = All_T.T\n",
        "  X_variance = np.diag(np.diag(All_T @ All))\n",
        "  eig_vals_diag = np.zeros((num_feat, num_feat), float) \n",
        "  np.fill_diagonal(eig_vals_diag, eig_vals[:num_feat]) \n",
        "  eig_vals_diagsqrt = np.sqrt(eig_vals_diag)\n",
        "  A_T = eig_vecs[:, :num_feat] @ eig_vals_diagsqrt\n",
        "  A = A_T.T\n",
        "  psi = X_variance - A_T @ A\n",
        "  inverse_psi = np.linalg.inv(psi)\n",
        "  inner = np.linalg.inv(A @ (inverse_psi) @ (A_T))\n",
        "  F = X @ inverse_psi @ (A_T) @ (inner)\n",
        "  communality_vector = np.diag(A_T @ A)\n",
        "  return F, A, communality_vector, psi, eig_vals, eig_vecs, sel_eig_vals\n"
      ]
    },
    {
      "cell_type": "code",
      "execution_count": null,
      "metadata": {
        "id": "IGybVK_oR0xG"
      },
      "outputs": [],
      "source": [
        "F, A, communality_vector, psi, eig_vals, eig_vecs, sel_eig_vals = fa_function(X.T, 2)\n"
      ]
    },
    {
      "cell_type": "code",
      "source": [
        "def plot_eigvals(X): \n",
        "\n",
        "  count = 0\n",
        "  x_axis=[]\n",
        "  y_axis = []\n",
        "  total_acc = 0\n",
        "\n",
        "\n",
        "  for i in range(1,100):\n",
        "    F, A, communality_vector, psi, eig_vals, eig_vecs, sel_eig_vals = fa_function(X.T, i)\n",
        "    x_axis.append(i)\n",
        "\n",
        "    sum_vals = eig_vals.sum()\n",
        "\n",
        "    total_ = sel_eig_vals[i-1]/sum_vals\n",
        "\n",
        "    total_acc = total_ + total_acc\n",
        "\n",
        "    y_axis.append(total_acc*100)\n",
        "\n",
        "   \n",
        "\n",
        "    if total_acc > 0.5 and count == 0:\n",
        "      print(\"it was necessary \" + str(i) +\" factors for 50% variance\")\n",
        "      count = 1\n",
        "    \n",
        "    elif total_acc> 0.6 and count == 1:\n",
        "      print(\"it was necessary \" + str(i) +\" factors for 60% variance\")\n",
        "      count = 2\n",
        "\n",
        "    elif total_acc > 0.7 and count == 2:\n",
        "      print(\"it was necessary \" + str(i) +\" factors for 70% variance\")\n",
        "      count = 3\n",
        "\n",
        "    elif total_acc > 0.8 and count == 3:\n",
        "      print(\"it was necessary \" + str(i) +\" factors for 80% variance\")\n",
        "      count = 4  \n",
        "\n",
        "    elif total_acc > 0.9 and count == 4:\n",
        "      print(\"it was necessary \" + str(i) +\" factors for 90% variance\")\n",
        "      count = 5\n",
        "\n",
        "  plt.plot(x_axis,y_axis)\n",
        "  plt.show()\n",
        "\n",
        "\n"
      ],
      "metadata": {
        "id": "vQj7H6uTROn2"
      },
      "execution_count": null,
      "outputs": []
    },
    {
      "cell_type": "code",
      "source": [
        "plot_eigvals(X)\n"
      ],
      "metadata": {
        "colab": {
          "base_uri": "https://localhost:8080/",
          "height": 354
        },
        "id": "WLhWUNm1V14X",
        "outputId": "425ef0b1-adb0-4781-a7da-684de626a7ca"
      },
      "execution_count": null,
      "outputs": [
        {
          "output_type": "stream",
          "name": "stdout",
          "text": [
            "it was necessary 2 factors for 50% variance\n",
            "it was necessary 4 factors for 60% variance\n",
            "it was necessary 7 factors for 70% variance\n",
            "it was necessary 17 factors for 80% variance\n",
            "it was necessary 50 factors for 90% variance\n"
          ]
        },
        {
          "output_type": "display_data",
          "data": {
            "text/plain": [
              "<Figure size 432x288 with 1 Axes>"
            ],
            "image/png": "[encoded data removed]"
          },
          "metadata": {
            "needs_background": "light"
          }
        }
      ]
    },
    {
      "cell_type": "markdown",
      "metadata": {
        "id": "nnq6083zW-2l"
      },
      "source": [
        "b. (10%) Rescale the first principal component (PC) into the range of [0, 255]. Reshape the first PC (initially\n",
        "an 2576 × 1 vector) into a 46 × 56 matrix. Plot an image from the 46 × 56 matrix using the rescaled PC scores as the grayscale values."
      ]
    },
    {
      "cell_type": "code",
      "source": [
        "F, A, communality_vector, psi, eig_vals, eig_vecs, sel_eig_vals = fa_function(X.T, 17)\n",
        "\n",
        "FA_1 = F@A\n",
        "FA_1=FA_1.T[0]\n",
        "FA_1_array =FA_1.reshape(56,46).real\n",
        "imgplot = plt.imshow(FA_1_array, cmap='gray')\n",
        "plt.show()"
      ],
      "metadata": {
        "colab": {
          "base_uri": "https://localhost:8080/",
          "height": 267
        },
        "id": "52chNaFrRnVG",
        "outputId": "946dd0af-7147-4df9-e50a-ecb3ad67fd9c"
      },
      "execution_count": null,
      "outputs": [
        {
          "output_type": "display_data",
          "data": {
            "text/plain": [
              "<Figure size 432x288 with 1 Axes>"
            ],
            "image/png": "[encoded data removed]"
          },
          "metadata": {
            "needs_background": "light"
          }
        }
      ]
    }
  ],
  "metadata": {
    "colab": {
      "name": "homework_6_2.ipynb",
      "provenance": []
    },
    "kernelspec": {
      "display_name": "Python 3",
      "name": "python3"
    },
    "language_info": {
      "name": "python"
    }
  },
  "nbformat": 4,
  "nbformat_minor": 0
}